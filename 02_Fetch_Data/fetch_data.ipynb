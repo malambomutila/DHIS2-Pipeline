{
 "cells": [
  {
   "cell_type": "code",
   "execution_count": 9,
   "metadata": {},
   "outputs": [],
   "source": [
    "# Important Packages\n",
    "\n",
    "import pandas as pd\n",
    "import requests\n",
    "import json\n",
    "from pathlib import Path\n",
    "from requests.auth import HTTPBasicAuth\n",
    "from sqlalchemy import create_engine\n",
    "import logging\n",
    "from datetime import datetime, timedelta\n"
   ]
  },
  {
   "cell_type": "code",
   "execution_count": 10,
   "metadata": {},
   "outputs": [],
   "source": [
    "# Get the current notebook's directory dynamically\n",
    "base_dir = Path.cwd().parent  # Moves one level up from current working directory\n",
    "\n",
    "# Paths to credentials file and data directory\n",
    "credentials_path = base_dir / '00_Local' / '01_Configs' / 'credentials2.txt'\n",
    "data_dir = base_dir / '00_Local' / '02_Data'"
   ]
  },
  {
   "cell_type": "code",
   "execution_count": 11,
   "metadata": {},
   "outputs": [
    {
     "name": "stdout",
     "output_type": "stream",
     "text": [
      "DHIS2 instance URL: https://training.eidsr.znphi.co.zm/\n"
     ]
    }
   ],
   "source": [
    "# Load credentials from the file\n",
    "credentials = {}\n",
    "with credentials_path.open('r') as file:\n",
    "    for line in file:\n",
    "        if '=' in line:\n",
    "            key, value = line.strip().split('=', 1)\n",
    "            credentials[key.strip()] = value.strip()\n",
    "\n",
    "# Extract values\n",
    "DHIS2_URL = credentials.get('DHIS2_URL')\n",
    "USERNAME = credentials.get('USERNAME')\n",
    "PASSWORD = credentials.get('PASSWORD')\n",
    "DB_NAME = credentials.get('DB_NAME')\n",
    "DB_USER = credentials.get('DB_USER')\n",
    "DB_PASS = credentials.get('DB_PASS')\n",
    "\n",
    "print(\"DHIS2 instance URL:\", DHIS2_URL)"
   ]
  },
  {
   "cell_type": "code",
   "execution_count": 12,
   "metadata": {},
   "outputs": [],
   "source": [
    "# # Define the API endpoint for datasets\n",
    "# endpoint = f\"{DHIS2_URL}/api/dataSets.json\"\n",
    "\n",
    "# # Make the request with authentication\n",
    "# response = requests.get(endpoint, auth=(USERNAME, PASSWORD), params={'paging': 'false'})\n",
    "\n",
    "# # Check if the request was successful\n",
    "# if response.status_code == 200:\n",
    "#     datasets = response.json()\n",
    "#     print(\"Data retrieved successfully!\")\n",
    "# else:\n",
    "#     print(\"Failed to retrieve data:\", response.status_code, response.text)\n"
   ]
  },
  {
   "cell_type": "code",
   "execution_count": 13,
   "metadata": {},
   "outputs": [],
   "source": [
    "# # Convert JSON to DataFrame\n",
    "# df = pd.DataFrame(datasets['dataSets'])"
   ]
  },
  {
   "cell_type": "code",
   "execution_count": 14,
   "metadata": {},
   "outputs": [],
   "source": [
    "# df.head(20)"
   ]
  },
  {
   "cell_type": "code",
   "execution_count": null,
   "metadata": {},
   "outputs": [],
   "source": []
  }
 ],
 "metadata": {
  "kernelspec": {
   "display_name": "dhis2env",
   "language": "python",
   "name": "python3"
  },
  "language_info": {
   "codemirror_mode": {
    "name": "ipython",
    "version": 3
   },
   "file_extension": ".py",
   "mimetype": "text/x-python",
   "name": "python",
   "nbconvert_exporter": "python",
   "pygments_lexer": "ipython3",
   "version": "3.12.3"
  }
 },
 "nbformat": 4,
 "nbformat_minor": 2
}
